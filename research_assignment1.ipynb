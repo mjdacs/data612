{
 "cells": [
  {
   "cell_type": "markdown",
   "metadata": {},
   "source": [
    "# LinkedIn Recommendation Systems\n",
    "\n",
    "DATA 612 - Research Discussion Assignment 1\n",
    "Michael D'Acampora"
   ]
  },
  {
   "cell_type": "markdown",
   "metadata": {},
   "source": [
    "[LinkedIn Recruiter](https://business.linkedin.com/talent-solutions/recruiter#) is a platform built for recruiters to find job candidates within the social network's active community. Recruiters are able to tap into over 560 million members and within the various tools contained, a recommendation system is used.\n",
    "\n",
    "As mentioned in some of our recent class discussions there may exist a need for more detail such as tags or other multivariate bits of information. In Recruiter's case it's the fact that a mutual interest must exist between recruiter and candidate for any type of recommendation to persist. In other words, a match wont simply be made based on what a recruiter is looking for and a candidates LinkedIn profile. The way this feature works is the candidate must recieve a private InMail from a recruiter *and* reply with a positive response. This is considered an \"Accept\" which will initiate the recommender system (which is continously being experimented with).\n",
    "\n",
    "There are a number of searches a recruiter can make, be it a title, job skills, a specific company name, as well any unstructured text she wishes to enter. The queries can become complex and it is the goal of the platform to return a ranked list of the most eligible candidates. A number of practices are used to standardize, index, rank and score the returned list. Recruiter Search is another application that helps recruiters with recommendations on how to form new queries. Perhaps the system could recommend \"Data Scientst\" as part of a search query when the recruiter has a Machine Learning Engineer job posting she is looking to advertise.\n",
    "\n",
    "Aside from the recommender systems, LinkedIn uses a number of machine learning algorithms to improve candidate response to Inmail, which could later be used in their recommender systems.\n",
    "\n",
    "For more info check out LinkedIn's [engineering blog.](https://engineering.linkedin.com/blog/2019/04/ai-behind-linkedin-recruiter-search-and-recommendation-systems)"
   ]
  },
  {
   "cell_type": "code",
   "execution_count": null,
   "metadata": {},
   "outputs": [],
   "source": []
  }
 ],
 "metadata": {
  "kernelspec": {
   "display_name": "Python 3",
   "language": "python",
   "name": "python3"
  },
  "language_info": {
   "codemirror_mode": {
    "name": "ipython",
    "version": 3
   },
   "file_extension": ".py",
   "mimetype": "text/x-python",
   "name": "python",
   "nbconvert_exporter": "python",
   "pygments_lexer": "ipython3",
   "version": "3.7.3"
  }
 },
 "nbformat": 4,
 "nbformat_minor": 2
}
