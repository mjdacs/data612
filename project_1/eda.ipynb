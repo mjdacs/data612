{
 "cells": [
  {
   "cell_type": "code",
   "execution_count": 1,
   "metadata": {},
   "outputs": [],
   "source": [
    "import numpy as np\n",
    "import pandas as pd\n",
    "from random import randint\n",
    "\n",
    "from sklearn.model_selection import train_test_split\n",
    "from sklearn.metrics import mean_squared_error\n",
    "from math import sqrt\n"
   ]
  },
  {
   "cell_type": "markdown",
   "metadata": {},
   "source": [
    "Create an 10x8 dataframe with random scores from 0 to 5 "
   ]
  },
  {
   "cell_type": "code",
   "execution_count": 2,
   "metadata": {},
   "outputs": [],
   "source": [
    "ratings = {\n",
    "    \"col1\": [randint(0,5) for i in range(10)],\n",
    "    \"col2\": [randint(0,5) for i in range(10)],\n",
    "    \"col3\": [randint(0,5) for i in range(10)],\n",
    "    \"col4\": [randint(0,5) for i in range(10)],\n",
    "    \"col5\": [randint(0,5) for i in range(10)],\n",
    "    \"col6\": [randint(0,5) for i in range(10)],\n",
    "    \"col7\": [randint(0,5) for i in range(10)],\n",
    "    \"col8\": [randint(0,5) for i in range(10)],\n",
    "}"
   ]
  },
  {
   "cell_type": "code",
   "execution_count": 44,
   "metadata": {},
   "outputs": [
    {
     "ename": "TypeError",
     "evalue": "__init__() got an unexpected keyword argument 'header'",
     "output_type": "error",
     "traceback": [
      "\u001b[0;31m---------------------------------------------------------------------------\u001b[0m",
      "\u001b[0;31mTypeError\u001b[0m                                 Traceback (most recent call last)",
      "\u001b[0;32m<ipython-input-44-882fd5ed9a59>\u001b[0m in \u001b[0;36m<module>\u001b[0;34m\u001b[0m\n\u001b[0;32m----> 1\u001b[0;31m \u001b[0mdf\u001b[0m \u001b[0;34m=\u001b[0m \u001b[0mpd\u001b[0m\u001b[0;34m.\u001b[0m\u001b[0mDataFrame\u001b[0m\u001b[0;34m(\u001b[0m\u001b[0mratings\u001b[0m\u001b[0;34m,\u001b[0m \u001b[0mheader\u001b[0m\u001b[0;34m=\u001b[0m\u001b[0;32mTrue\u001b[0m\u001b[0;34m)\u001b[0m\u001b[0;34m\u001b[0m\u001b[0;34m\u001b[0m\u001b[0m\n\u001b[0m\u001b[1;32m      2\u001b[0m \u001b[0mdf\u001b[0m\u001b[0;34m\u001b[0m\u001b[0;34m\u001b[0m\u001b[0m\n",
      "\u001b[0;31mTypeError\u001b[0m: __init__() got an unexpected keyword argument 'header'"
     ]
    }
   ],
   "source": [
    "df = pd.DataFrame(ratings, header=True)\n",
    "df"
   ]
  },
  {
   "cell_type": "markdown",
   "metadata": {},
   "source": [
    "In order to add some null values, we choose at randome about 15% to be NaN"
   ]
  },
  {
   "cell_type": "code",
   "execution_count": 4,
   "metadata": {},
   "outputs": [],
   "source": [
    "np.random.seed(111)\n",
    "mask = np.random.choice([True, False], size=df.shape, p=[0.15, 0.85])\n",
    "df = df.mask(mask)    "
   ]
  },
  {
   "cell_type": "code",
   "execution_count": 5,
   "metadata": {},
   "outputs": [
    {
     "data": {
      "text/html": [
       "<div>\n",
       "<style scoped>\n",
       "    .dataframe tbody tr th:only-of-type {\n",
       "        vertical-align: middle;\n",
       "    }\n",
       "\n",
       "    .dataframe tbody tr th {\n",
       "        vertical-align: top;\n",
       "    }\n",
       "\n",
       "    .dataframe thead th {\n",
       "        text-align: right;\n",
       "    }\n",
       "</style>\n",
       "<table border=\"1\" class=\"dataframe\">\n",
       "  <thead>\n",
       "    <tr style=\"text-align: right;\">\n",
       "      <th></th>\n",
       "      <th>col1</th>\n",
       "      <th>col2</th>\n",
       "      <th>col3</th>\n",
       "      <th>col4</th>\n",
       "      <th>col5</th>\n",
       "      <th>col6</th>\n",
       "      <th>col7</th>\n",
       "      <th>col8</th>\n",
       "    </tr>\n",
       "  </thead>\n",
       "  <tbody>\n",
       "    <tr>\n",
       "      <th>0</th>\n",
       "      <td>5.0</td>\n",
       "      <td>3.0</td>\n",
       "      <td>0.0</td>\n",
       "      <td>1.0</td>\n",
       "      <td>2.0</td>\n",
       "      <td>NaN</td>\n",
       "      <td>NaN</td>\n",
       "      <td>4.0</td>\n",
       "    </tr>\n",
       "    <tr>\n",
       "      <th>1</th>\n",
       "      <td>2.0</td>\n",
       "      <td>2.0</td>\n",
       "      <td>3.0</td>\n",
       "      <td>1.0</td>\n",
       "      <td>NaN</td>\n",
       "      <td>4.0</td>\n",
       "      <td>0.0</td>\n",
       "      <td>2.0</td>\n",
       "    </tr>\n",
       "    <tr>\n",
       "      <th>2</th>\n",
       "      <td>5.0</td>\n",
       "      <td>NaN</td>\n",
       "      <td>NaN</td>\n",
       "      <td>1.0</td>\n",
       "      <td>2.0</td>\n",
       "      <td>1.0</td>\n",
       "      <td>1.0</td>\n",
       "      <td>5.0</td>\n",
       "    </tr>\n",
       "    <tr>\n",
       "      <th>3</th>\n",
       "      <td>0.0</td>\n",
       "      <td>5.0</td>\n",
       "      <td>2.0</td>\n",
       "      <td>NaN</td>\n",
       "      <td>5.0</td>\n",
       "      <td>NaN</td>\n",
       "      <td>5.0</td>\n",
       "      <td>3.0</td>\n",
       "    </tr>\n",
       "    <tr>\n",
       "      <th>4</th>\n",
       "      <td>0.0</td>\n",
       "      <td>0.0</td>\n",
       "      <td>4.0</td>\n",
       "      <td>NaN</td>\n",
       "      <td>3.0</td>\n",
       "      <td>2.0</td>\n",
       "      <td>1.0</td>\n",
       "      <td>2.0</td>\n",
       "    </tr>\n",
       "    <tr>\n",
       "      <th>5</th>\n",
       "      <td>3.0</td>\n",
       "      <td>3.0</td>\n",
       "      <td>0.0</td>\n",
       "      <td>2.0</td>\n",
       "      <td>3.0</td>\n",
       "      <td>4.0</td>\n",
       "      <td>NaN</td>\n",
       "      <td>1.0</td>\n",
       "    </tr>\n",
       "    <tr>\n",
       "      <th>6</th>\n",
       "      <td>0.0</td>\n",
       "      <td>1.0</td>\n",
       "      <td>4.0</td>\n",
       "      <td>0.0</td>\n",
       "      <td>5.0</td>\n",
       "      <td>5.0</td>\n",
       "      <td>NaN</td>\n",
       "      <td>NaN</td>\n",
       "    </tr>\n",
       "    <tr>\n",
       "      <th>7</th>\n",
       "      <td>NaN</td>\n",
       "      <td>NaN</td>\n",
       "      <td>NaN</td>\n",
       "      <td>1.0</td>\n",
       "      <td>3.0</td>\n",
       "      <td>3.0</td>\n",
       "      <td>3.0</td>\n",
       "      <td>NaN</td>\n",
       "    </tr>\n",
       "    <tr>\n",
       "      <th>8</th>\n",
       "      <td>1.0</td>\n",
       "      <td>1.0</td>\n",
       "      <td>4.0</td>\n",
       "      <td>0.0</td>\n",
       "      <td>0.0</td>\n",
       "      <td>1.0</td>\n",
       "      <td>5.0</td>\n",
       "      <td>3.0</td>\n",
       "    </tr>\n",
       "    <tr>\n",
       "      <th>9</th>\n",
       "      <td>NaN</td>\n",
       "      <td>4.0</td>\n",
       "      <td>5.0</td>\n",
       "      <td>3.0</td>\n",
       "      <td>1.0</td>\n",
       "      <td>0.0</td>\n",
       "      <td>1.0</td>\n",
       "      <td>4.0</td>\n",
       "    </tr>\n",
       "  </tbody>\n",
       "</table>\n",
       "</div>"
      ],
      "text/plain": [
       "   col1  col2  col3  col4  col5  col6  col7  col8\n",
       "0   5.0   3.0   0.0   1.0   2.0   NaN   NaN   4.0\n",
       "1   2.0   2.0   3.0   1.0   NaN   4.0   0.0   2.0\n",
       "2   5.0   NaN   NaN   1.0   2.0   1.0   1.0   5.0\n",
       "3   0.0   5.0   2.0   NaN   5.0   NaN   5.0   3.0\n",
       "4   0.0   0.0   4.0   NaN   3.0   2.0   1.0   2.0\n",
       "5   3.0   3.0   0.0   2.0   3.0   4.0   NaN   1.0\n",
       "6   0.0   1.0   4.0   0.0   5.0   5.0   NaN   NaN\n",
       "7   NaN   NaN   NaN   1.0   3.0   3.0   3.0   NaN\n",
       "8   1.0   1.0   4.0   0.0   0.0   1.0   5.0   3.0\n",
       "9   NaN   4.0   5.0   3.0   1.0   0.0   1.0   4.0"
      ]
     },
     "execution_count": 5,
     "metadata": {},
     "output_type": "execute_result"
    }
   ],
   "source": [
    "df"
   ]
  },
  {
   "cell_type": "markdown",
   "metadata": {},
   "source": [
    "From here the dataframe is split into training and test sets on an 80/20 basis."
   ]
  },
  {
   "cell_type": "code",
   "execution_count": 6,
   "metadata": {},
   "outputs": [],
   "source": [
    "train, test = train_test_split(df, test_size=0.2)"
   ]
  },
  {
   "cell_type": "markdown",
   "metadata": {},
   "source": [
    "The next step is to calculate the raw averages of the training and test sets. First we will work on the training set."
   ]
  },
  {
   "cell_type": "code",
   "execution_count": 7,
   "metadata": {},
   "outputs": [
    {
     "data": {
      "text/html": [
       "<div>\n",
       "<style scoped>\n",
       "    .dataframe tbody tr th:only-of-type {\n",
       "        vertical-align: middle;\n",
       "    }\n",
       "\n",
       "    .dataframe tbody tr th {\n",
       "        vertical-align: top;\n",
       "    }\n",
       "\n",
       "    .dataframe thead th {\n",
       "        text-align: right;\n",
       "    }\n",
       "</style>\n",
       "<table border=\"1\" class=\"dataframe\">\n",
       "  <thead>\n",
       "    <tr style=\"text-align: right;\">\n",
       "      <th></th>\n",
       "      <th>col1</th>\n",
       "      <th>col2</th>\n",
       "      <th>col3</th>\n",
       "      <th>col4</th>\n",
       "      <th>col5</th>\n",
       "      <th>col6</th>\n",
       "      <th>col7</th>\n",
       "      <th>col8</th>\n",
       "    </tr>\n",
       "  </thead>\n",
       "  <tbody>\n",
       "    <tr>\n",
       "      <th>0</th>\n",
       "      <td>5.0</td>\n",
       "      <td>3.0</td>\n",
       "      <td>0.0</td>\n",
       "      <td>1.0</td>\n",
       "      <td>2.0</td>\n",
       "      <td>NaN</td>\n",
       "      <td>NaN</td>\n",
       "      <td>4.0</td>\n",
       "    </tr>\n",
       "    <tr>\n",
       "      <th>7</th>\n",
       "      <td>NaN</td>\n",
       "      <td>NaN</td>\n",
       "      <td>NaN</td>\n",
       "      <td>1.0</td>\n",
       "      <td>3.0</td>\n",
       "      <td>3.0</td>\n",
       "      <td>3.0</td>\n",
       "      <td>NaN</td>\n",
       "    </tr>\n",
       "    <tr>\n",
       "      <th>4</th>\n",
       "      <td>0.0</td>\n",
       "      <td>0.0</td>\n",
       "      <td>4.0</td>\n",
       "      <td>NaN</td>\n",
       "      <td>3.0</td>\n",
       "      <td>2.0</td>\n",
       "      <td>1.0</td>\n",
       "      <td>2.0</td>\n",
       "    </tr>\n",
       "    <tr>\n",
       "      <th>1</th>\n",
       "      <td>2.0</td>\n",
       "      <td>2.0</td>\n",
       "      <td>3.0</td>\n",
       "      <td>1.0</td>\n",
       "      <td>NaN</td>\n",
       "      <td>4.0</td>\n",
       "      <td>0.0</td>\n",
       "      <td>2.0</td>\n",
       "    </tr>\n",
       "    <tr>\n",
       "      <th>3</th>\n",
       "      <td>0.0</td>\n",
       "      <td>5.0</td>\n",
       "      <td>2.0</td>\n",
       "      <td>NaN</td>\n",
       "      <td>5.0</td>\n",
       "      <td>NaN</td>\n",
       "      <td>5.0</td>\n",
       "      <td>3.0</td>\n",
       "    </tr>\n",
       "    <tr>\n",
       "      <th>2</th>\n",
       "      <td>5.0</td>\n",
       "      <td>NaN</td>\n",
       "      <td>NaN</td>\n",
       "      <td>1.0</td>\n",
       "      <td>2.0</td>\n",
       "      <td>1.0</td>\n",
       "      <td>1.0</td>\n",
       "      <td>5.0</td>\n",
       "    </tr>\n",
       "    <tr>\n",
       "      <th>5</th>\n",
       "      <td>3.0</td>\n",
       "      <td>3.0</td>\n",
       "      <td>0.0</td>\n",
       "      <td>2.0</td>\n",
       "      <td>3.0</td>\n",
       "      <td>4.0</td>\n",
       "      <td>NaN</td>\n",
       "      <td>1.0</td>\n",
       "    </tr>\n",
       "    <tr>\n",
       "      <th>6</th>\n",
       "      <td>0.0</td>\n",
       "      <td>1.0</td>\n",
       "      <td>4.0</td>\n",
       "      <td>0.0</td>\n",
       "      <td>5.0</td>\n",
       "      <td>5.0</td>\n",
       "      <td>NaN</td>\n",
       "      <td>NaN</td>\n",
       "    </tr>\n",
       "  </tbody>\n",
       "</table>\n",
       "</div>"
      ],
      "text/plain": [
       "   col1  col2  col3  col4  col5  col6  col7  col8\n",
       "0   5.0   3.0   0.0   1.0   2.0   NaN   NaN   4.0\n",
       "7   NaN   NaN   NaN   1.0   3.0   3.0   3.0   NaN\n",
       "4   0.0   0.0   4.0   NaN   3.0   2.0   1.0   2.0\n",
       "1   2.0   2.0   3.0   1.0   NaN   4.0   0.0   2.0\n",
       "3   0.0   5.0   2.0   NaN   5.0   NaN   5.0   3.0\n",
       "2   5.0   NaN   NaN   1.0   2.0   1.0   1.0   5.0\n",
       "5   3.0   3.0   0.0   2.0   3.0   4.0   NaN   1.0\n",
       "6   0.0   1.0   4.0   0.0   5.0   5.0   NaN   NaN"
      ]
     },
     "execution_count": 7,
     "metadata": {},
     "output_type": "execute_result"
    }
   ],
   "source": [
    "train"
   ]
  },
  {
   "cell_type": "code",
   "execution_count": 8,
   "metadata": {},
   "outputs": [
    {
     "data": {
      "text/plain": [
       "2.3877551020408165"
      ]
     },
     "execution_count": 8,
     "metadata": {},
     "output_type": "execute_result"
    }
   ],
   "source": [
    "# sum the rows, them sum the row sums\n",
    "# then divide the total by the non-NaN count to obtain the raw avg\n",
    "train_row_sum = train.sum(axis=1)\n",
    "df_train_sum = train_row_sum.sum()\n",
    "train_raw_avg = df_train_sum / train.count().sum()\n",
    "train_raw_avg"
   ]
  },
  {
   "cell_type": "markdown",
   "metadata": {},
   "source": [
    "The raw average for the training set is output above. Next we will impute (replace) any NaN values in the training set with this number"
   ]
  },
  {
   "cell_type": "code",
   "execution_count": 9,
   "metadata": {},
   "outputs": [
    {
     "data": {
      "text/html": [
       "<div>\n",
       "<style scoped>\n",
       "    .dataframe tbody tr th:only-of-type {\n",
       "        vertical-align: middle;\n",
       "    }\n",
       "\n",
       "    .dataframe tbody tr th {\n",
       "        vertical-align: top;\n",
       "    }\n",
       "\n",
       "    .dataframe thead th {\n",
       "        text-align: right;\n",
       "    }\n",
       "</style>\n",
       "<table border=\"1\" class=\"dataframe\">\n",
       "  <thead>\n",
       "    <tr style=\"text-align: right;\">\n",
       "      <th></th>\n",
       "      <th>col1</th>\n",
       "      <th>col2</th>\n",
       "      <th>col3</th>\n",
       "      <th>col4</th>\n",
       "      <th>col5</th>\n",
       "      <th>col6</th>\n",
       "      <th>col7</th>\n",
       "      <th>col8</th>\n",
       "    </tr>\n",
       "  </thead>\n",
       "  <tbody>\n",
       "    <tr>\n",
       "      <th>0</th>\n",
       "      <td>5.000000</td>\n",
       "      <td>3.000000</td>\n",
       "      <td>0.000000</td>\n",
       "      <td>1.000000</td>\n",
       "      <td>2.000000</td>\n",
       "      <td>2.387755</td>\n",
       "      <td>2.387755</td>\n",
       "      <td>4.000000</td>\n",
       "    </tr>\n",
       "    <tr>\n",
       "      <th>7</th>\n",
       "      <td>2.387755</td>\n",
       "      <td>2.387755</td>\n",
       "      <td>2.387755</td>\n",
       "      <td>1.000000</td>\n",
       "      <td>3.000000</td>\n",
       "      <td>3.000000</td>\n",
       "      <td>3.000000</td>\n",
       "      <td>2.387755</td>\n",
       "    </tr>\n",
       "    <tr>\n",
       "      <th>4</th>\n",
       "      <td>0.000000</td>\n",
       "      <td>0.000000</td>\n",
       "      <td>4.000000</td>\n",
       "      <td>2.387755</td>\n",
       "      <td>3.000000</td>\n",
       "      <td>2.000000</td>\n",
       "      <td>1.000000</td>\n",
       "      <td>2.000000</td>\n",
       "    </tr>\n",
       "    <tr>\n",
       "      <th>1</th>\n",
       "      <td>2.000000</td>\n",
       "      <td>2.000000</td>\n",
       "      <td>3.000000</td>\n",
       "      <td>1.000000</td>\n",
       "      <td>2.387755</td>\n",
       "      <td>4.000000</td>\n",
       "      <td>0.000000</td>\n",
       "      <td>2.000000</td>\n",
       "    </tr>\n",
       "    <tr>\n",
       "      <th>3</th>\n",
       "      <td>0.000000</td>\n",
       "      <td>5.000000</td>\n",
       "      <td>2.000000</td>\n",
       "      <td>2.387755</td>\n",
       "      <td>5.000000</td>\n",
       "      <td>2.387755</td>\n",
       "      <td>5.000000</td>\n",
       "      <td>3.000000</td>\n",
       "    </tr>\n",
       "    <tr>\n",
       "      <th>2</th>\n",
       "      <td>5.000000</td>\n",
       "      <td>2.387755</td>\n",
       "      <td>2.387755</td>\n",
       "      <td>1.000000</td>\n",
       "      <td>2.000000</td>\n",
       "      <td>1.000000</td>\n",
       "      <td>1.000000</td>\n",
       "      <td>5.000000</td>\n",
       "    </tr>\n",
       "    <tr>\n",
       "      <th>5</th>\n",
       "      <td>3.000000</td>\n",
       "      <td>3.000000</td>\n",
       "      <td>0.000000</td>\n",
       "      <td>2.000000</td>\n",
       "      <td>3.000000</td>\n",
       "      <td>4.000000</td>\n",
       "      <td>2.387755</td>\n",
       "      <td>1.000000</td>\n",
       "    </tr>\n",
       "    <tr>\n",
       "      <th>6</th>\n",
       "      <td>0.000000</td>\n",
       "      <td>1.000000</td>\n",
       "      <td>4.000000</td>\n",
       "      <td>0.000000</td>\n",
       "      <td>5.000000</td>\n",
       "      <td>5.000000</td>\n",
       "      <td>2.387755</td>\n",
       "      <td>2.387755</td>\n",
       "    </tr>\n",
       "  </tbody>\n",
       "</table>\n",
       "</div>"
      ],
      "text/plain": [
       "       col1      col2      col3      col4      col5      col6      col7  \\\n",
       "0  5.000000  3.000000  0.000000  1.000000  2.000000  2.387755  2.387755   \n",
       "7  2.387755  2.387755  2.387755  1.000000  3.000000  3.000000  3.000000   \n",
       "4  0.000000  0.000000  4.000000  2.387755  3.000000  2.000000  1.000000   \n",
       "1  2.000000  2.000000  3.000000  1.000000  2.387755  4.000000  0.000000   \n",
       "3  0.000000  5.000000  2.000000  2.387755  5.000000  2.387755  5.000000   \n",
       "2  5.000000  2.387755  2.387755  1.000000  2.000000  1.000000  1.000000   \n",
       "5  3.000000  3.000000  0.000000  2.000000  3.000000  4.000000  2.387755   \n",
       "6  0.000000  1.000000  4.000000  0.000000  5.000000  5.000000  2.387755   \n",
       "\n",
       "       col8  \n",
       "0  4.000000  \n",
       "7  2.387755  \n",
       "4  2.000000  \n",
       "1  2.000000  \n",
       "3  3.000000  \n",
       "2  5.000000  \n",
       "5  1.000000  \n",
       "6  2.387755  "
      ]
     },
     "execution_count": 9,
     "metadata": {},
     "output_type": "execute_result"
    }
   ],
   "source": [
    "train_imputed = train.fillna(train_raw_avg)\n",
    "train_imputed"
   ]
  },
  {
   "cell_type": "markdown",
   "metadata": {},
   "source": [
    "Lastly an equivalent sized dataframe is created full of raw averages in order to calculate the root mean square error (RMSE)."
   ]
  },
  {
   "cell_type": "code",
   "execution_count": 10,
   "metadata": {},
   "outputs": [
    {
     "data": {
      "text/html": [
       "<div>\n",
       "<style scoped>\n",
       "    .dataframe tbody tr th:only-of-type {\n",
       "        vertical-align: middle;\n",
       "    }\n",
       "\n",
       "    .dataframe tbody tr th {\n",
       "        vertical-align: top;\n",
       "    }\n",
       "\n",
       "    .dataframe thead th {\n",
       "        text-align: right;\n",
       "    }\n",
       "</style>\n",
       "<table border=\"1\" class=\"dataframe\">\n",
       "  <thead>\n",
       "    <tr style=\"text-align: right;\">\n",
       "      <th></th>\n",
       "      <th>col1</th>\n",
       "      <th>col2</th>\n",
       "      <th>col3</th>\n",
       "      <th>col4</th>\n",
       "      <th>col5</th>\n",
       "      <th>col6</th>\n",
       "      <th>col7</th>\n",
       "      <th>col8</th>\n",
       "    </tr>\n",
       "  </thead>\n",
       "  <tbody>\n",
       "    <tr>\n",
       "      <th>0</th>\n",
       "      <td>2.387755</td>\n",
       "      <td>2.387755</td>\n",
       "      <td>2.387755</td>\n",
       "      <td>2.387755</td>\n",
       "      <td>2.387755</td>\n",
       "      <td>2.387755</td>\n",
       "      <td>2.387755</td>\n",
       "      <td>2.387755</td>\n",
       "    </tr>\n",
       "    <tr>\n",
       "      <th>1</th>\n",
       "      <td>2.387755</td>\n",
       "      <td>2.387755</td>\n",
       "      <td>2.387755</td>\n",
       "      <td>2.387755</td>\n",
       "      <td>2.387755</td>\n",
       "      <td>2.387755</td>\n",
       "      <td>2.387755</td>\n",
       "      <td>2.387755</td>\n",
       "    </tr>\n",
       "    <tr>\n",
       "      <th>2</th>\n",
       "      <td>2.387755</td>\n",
       "      <td>2.387755</td>\n",
       "      <td>2.387755</td>\n",
       "      <td>2.387755</td>\n",
       "      <td>2.387755</td>\n",
       "      <td>2.387755</td>\n",
       "      <td>2.387755</td>\n",
       "      <td>2.387755</td>\n",
       "    </tr>\n",
       "    <tr>\n",
       "      <th>3</th>\n",
       "      <td>2.387755</td>\n",
       "      <td>2.387755</td>\n",
       "      <td>2.387755</td>\n",
       "      <td>2.387755</td>\n",
       "      <td>2.387755</td>\n",
       "      <td>2.387755</td>\n",
       "      <td>2.387755</td>\n",
       "      <td>2.387755</td>\n",
       "    </tr>\n",
       "    <tr>\n",
       "      <th>4</th>\n",
       "      <td>2.387755</td>\n",
       "      <td>2.387755</td>\n",
       "      <td>2.387755</td>\n",
       "      <td>2.387755</td>\n",
       "      <td>2.387755</td>\n",
       "      <td>2.387755</td>\n",
       "      <td>2.387755</td>\n",
       "      <td>2.387755</td>\n",
       "    </tr>\n",
       "    <tr>\n",
       "      <th>5</th>\n",
       "      <td>2.387755</td>\n",
       "      <td>2.387755</td>\n",
       "      <td>2.387755</td>\n",
       "      <td>2.387755</td>\n",
       "      <td>2.387755</td>\n",
       "      <td>2.387755</td>\n",
       "      <td>2.387755</td>\n",
       "      <td>2.387755</td>\n",
       "    </tr>\n",
       "    <tr>\n",
       "      <th>6</th>\n",
       "      <td>2.387755</td>\n",
       "      <td>2.387755</td>\n",
       "      <td>2.387755</td>\n",
       "      <td>2.387755</td>\n",
       "      <td>2.387755</td>\n",
       "      <td>2.387755</td>\n",
       "      <td>2.387755</td>\n",
       "      <td>2.387755</td>\n",
       "    </tr>\n",
       "    <tr>\n",
       "      <th>7</th>\n",
       "      <td>2.387755</td>\n",
       "      <td>2.387755</td>\n",
       "      <td>2.387755</td>\n",
       "      <td>2.387755</td>\n",
       "      <td>2.387755</td>\n",
       "      <td>2.387755</td>\n",
       "      <td>2.387755</td>\n",
       "      <td>2.387755</td>\n",
       "    </tr>\n",
       "  </tbody>\n",
       "</table>\n",
       "</div>"
      ],
      "text/plain": [
       "       col1      col2      col3      col4      col5      col6      col7  \\\n",
       "0  2.387755  2.387755  2.387755  2.387755  2.387755  2.387755  2.387755   \n",
       "1  2.387755  2.387755  2.387755  2.387755  2.387755  2.387755  2.387755   \n",
       "2  2.387755  2.387755  2.387755  2.387755  2.387755  2.387755  2.387755   \n",
       "3  2.387755  2.387755  2.387755  2.387755  2.387755  2.387755  2.387755   \n",
       "4  2.387755  2.387755  2.387755  2.387755  2.387755  2.387755  2.387755   \n",
       "5  2.387755  2.387755  2.387755  2.387755  2.387755  2.387755  2.387755   \n",
       "6  2.387755  2.387755  2.387755  2.387755  2.387755  2.387755  2.387755   \n",
       "7  2.387755  2.387755  2.387755  2.387755  2.387755  2.387755  2.387755   \n",
       "\n",
       "       col8  \n",
       "0  2.387755  \n",
       "1  2.387755  \n",
       "2  2.387755  \n",
       "3  2.387755  \n",
       "4  2.387755  \n",
       "5  2.387755  \n",
       "6  2.387755  \n",
       "7  2.387755  "
      ]
     },
     "execution_count": 10,
     "metadata": {},
     "output_type": "execute_result"
    }
   ],
   "source": [
    "train_avg = {\n",
    "    \"col1\": [train_raw_avg for i in range(8)],\n",
    "    \"col2\": [train_raw_avg for i in range(8)],\n",
    "    \"col3\": [train_raw_avg for i in range(8)],\n",
    "    \"col4\": [train_raw_avg for i in range(8)],\n",
    "    \"col5\": [train_raw_avg for i in range(8)],\n",
    "    \"col6\": [train_raw_avg for i in range(8)],\n",
    "    \"col7\": [train_raw_avg for i in range(8)],\n",
    "    \"col8\": [train_raw_avg for i in range(8)],\n",
    "}\n",
    "\n",
    "train_raw_avg_df = pd.DataFrame(train_avg)\n",
    "train_raw_avg_df"
   ]
  },
  {
   "cell_type": "markdown",
   "metadata": {},
   "source": [
    "Lastly the RMSE for the training set is output below:"
   ]
  },
  {
   "cell_type": "code",
   "execution_count": 12,
   "metadata": {},
   "outputs": [
    {
     "data": {
      "text/plain": [
       "1.4557679087277726"
      ]
     },
     "execution_count": 12,
     "metadata": {},
     "output_type": "execute_result"
    }
   ],
   "source": [
    "training_rmse = sqrt(mean_squared_error(train_imputed, train_raw_avg_df))\n",
    "training_rmse"
   ]
  },
  {
   "cell_type": "markdown",
   "metadata": {},
   "source": [
    "Now let's go to work on the test set..."
   ]
  },
  {
   "cell_type": "code",
   "execution_count": 13,
   "metadata": {},
   "outputs": [
    {
     "data": {
      "text/html": [
       "<div>\n",
       "<style scoped>\n",
       "    .dataframe tbody tr th:only-of-type {\n",
       "        vertical-align: middle;\n",
       "    }\n",
       "\n",
       "    .dataframe tbody tr th {\n",
       "        vertical-align: top;\n",
       "    }\n",
       "\n",
       "    .dataframe thead th {\n",
       "        text-align: right;\n",
       "    }\n",
       "</style>\n",
       "<table border=\"1\" class=\"dataframe\">\n",
       "  <thead>\n",
       "    <tr style=\"text-align: right;\">\n",
       "      <th></th>\n",
       "      <th>col1</th>\n",
       "      <th>col2</th>\n",
       "      <th>col3</th>\n",
       "      <th>col4</th>\n",
       "      <th>col5</th>\n",
       "      <th>col6</th>\n",
       "      <th>col7</th>\n",
       "      <th>col8</th>\n",
       "    </tr>\n",
       "  </thead>\n",
       "  <tbody>\n",
       "    <tr>\n",
       "      <th>9</th>\n",
       "      <td>NaN</td>\n",
       "      <td>4.0</td>\n",
       "      <td>5.0</td>\n",
       "      <td>3.0</td>\n",
       "      <td>1.0</td>\n",
       "      <td>0.0</td>\n",
       "      <td>1.0</td>\n",
       "      <td>4.0</td>\n",
       "    </tr>\n",
       "    <tr>\n",
       "      <th>8</th>\n",
       "      <td>1.0</td>\n",
       "      <td>1.0</td>\n",
       "      <td>4.0</td>\n",
       "      <td>0.0</td>\n",
       "      <td>0.0</td>\n",
       "      <td>1.0</td>\n",
       "      <td>5.0</td>\n",
       "      <td>3.0</td>\n",
       "    </tr>\n",
       "  </tbody>\n",
       "</table>\n",
       "</div>"
      ],
      "text/plain": [
       "   col1  col2  col3  col4  col5  col6  col7  col8\n",
       "9   NaN   4.0   5.0   3.0   1.0   0.0   1.0   4.0\n",
       "8   1.0   1.0   4.0   0.0   0.0   1.0   5.0   3.0"
      ]
     },
     "execution_count": 13,
     "metadata": {},
     "output_type": "execute_result"
    }
   ],
   "source": [
    "test"
   ]
  },
  {
   "cell_type": "code",
   "execution_count": 38,
   "metadata": {},
   "outputs": [
    {
     "data": {
      "text/plain": [
       "2.2"
      ]
     },
     "execution_count": 38,
     "metadata": {},
     "output_type": "execute_result"
    }
   ],
   "source": [
    "# my method for finding the raw avgs. Sum the rows, then sum the column\n",
    "test_row_sum = test.sum(axis=1)\n",
    "df_test_sum = test_row_sum.sum()\n",
    "test_raw_avg = df_test_sum / test.count().sum()\n",
    "test_raw_avg"
   ]
  },
  {
   "cell_type": "markdown",
   "metadata": {},
   "source": [
    "As we did with the training set, we impute the raw average over NaNs in the test set"
   ]
  },
  {
   "cell_type": "code",
   "execution_count": 15,
   "metadata": {},
   "outputs": [
    {
     "data": {
      "text/html": [
       "<div>\n",
       "<style scoped>\n",
       "    .dataframe tbody tr th:only-of-type {\n",
       "        vertical-align: middle;\n",
       "    }\n",
       "\n",
       "    .dataframe tbody tr th {\n",
       "        vertical-align: top;\n",
       "    }\n",
       "\n",
       "    .dataframe thead th {\n",
       "        text-align: right;\n",
       "    }\n",
       "</style>\n",
       "<table border=\"1\" class=\"dataframe\">\n",
       "  <thead>\n",
       "    <tr style=\"text-align: right;\">\n",
       "      <th></th>\n",
       "      <th>col1</th>\n",
       "      <th>col2</th>\n",
       "      <th>col3</th>\n",
       "      <th>col4</th>\n",
       "      <th>col5</th>\n",
       "      <th>col6</th>\n",
       "      <th>col7</th>\n",
       "      <th>col8</th>\n",
       "    </tr>\n",
       "  </thead>\n",
       "  <tbody>\n",
       "    <tr>\n",
       "      <th>9</th>\n",
       "      <td>2.2</td>\n",
       "      <td>4.0</td>\n",
       "      <td>5.0</td>\n",
       "      <td>3.0</td>\n",
       "      <td>1.0</td>\n",
       "      <td>0.0</td>\n",
       "      <td>1.0</td>\n",
       "      <td>4.0</td>\n",
       "    </tr>\n",
       "    <tr>\n",
       "      <th>8</th>\n",
       "      <td>1.0</td>\n",
       "      <td>1.0</td>\n",
       "      <td>4.0</td>\n",
       "      <td>0.0</td>\n",
       "      <td>0.0</td>\n",
       "      <td>1.0</td>\n",
       "      <td>5.0</td>\n",
       "      <td>3.0</td>\n",
       "    </tr>\n",
       "  </tbody>\n",
       "</table>\n",
       "</div>"
      ],
      "text/plain": [
       "   col1  col2  col3  col4  col5  col6  col7  col8\n",
       "9   2.2   4.0   5.0   3.0   1.0   0.0   1.0   4.0\n",
       "8   1.0   1.0   4.0   0.0   0.0   1.0   5.0   3.0"
      ]
     },
     "execution_count": 15,
     "metadata": {},
     "output_type": "execute_result"
    }
   ],
   "source": [
    "test_imputed = test.fillna(test_raw_avg)\n",
    "test_imputed"
   ]
  },
  {
   "cell_type": "markdown",
   "metadata": {},
   "source": [
    "Second to last, we create a new dataframe with the raw averages of the test set in order to calcluate the RMSE"
   ]
  },
  {
   "cell_type": "code",
   "execution_count": 16,
   "metadata": {},
   "outputs": [
    {
     "data": {
      "text/html": [
       "<div>\n",
       "<style scoped>\n",
       "    .dataframe tbody tr th:only-of-type {\n",
       "        vertical-align: middle;\n",
       "    }\n",
       "\n",
       "    .dataframe tbody tr th {\n",
       "        vertical-align: top;\n",
       "    }\n",
       "\n",
       "    .dataframe thead th {\n",
       "        text-align: right;\n",
       "    }\n",
       "</style>\n",
       "<table border=\"1\" class=\"dataframe\">\n",
       "  <thead>\n",
       "    <tr style=\"text-align: right;\">\n",
       "      <th></th>\n",
       "      <th>col1</th>\n",
       "      <th>col2</th>\n",
       "      <th>col3</th>\n",
       "      <th>col4</th>\n",
       "      <th>col5</th>\n",
       "      <th>col6</th>\n",
       "      <th>col7</th>\n",
       "      <th>col8</th>\n",
       "    </tr>\n",
       "  </thead>\n",
       "  <tbody>\n",
       "    <tr>\n",
       "      <th>0</th>\n",
       "      <td>2.2</td>\n",
       "      <td>2.2</td>\n",
       "      <td>2.2</td>\n",
       "      <td>2.2</td>\n",
       "      <td>2.2</td>\n",
       "      <td>2.2</td>\n",
       "      <td>2.2</td>\n",
       "      <td>2.2</td>\n",
       "    </tr>\n",
       "    <tr>\n",
       "      <th>1</th>\n",
       "      <td>2.2</td>\n",
       "      <td>2.2</td>\n",
       "      <td>2.2</td>\n",
       "      <td>2.2</td>\n",
       "      <td>2.2</td>\n",
       "      <td>2.2</td>\n",
       "      <td>2.2</td>\n",
       "      <td>2.2</td>\n",
       "    </tr>\n",
       "  </tbody>\n",
       "</table>\n",
       "</div>"
      ],
      "text/plain": [
       "   col1  col2  col3  col4  col5  col6  col7  col8\n",
       "0   2.2   2.2   2.2   2.2   2.2   2.2   2.2   2.2\n",
       "1   2.2   2.2   2.2   2.2   2.2   2.2   2.2   2.2"
      ]
     },
     "execution_count": 16,
     "metadata": {},
     "output_type": "execute_result"
    }
   ],
   "source": [
    "test_avg = {\n",
    "    \"col1\": [test_raw_avg for i in range(2)],\n",
    "    \"col2\": [test_raw_avg for i in range(2)],\n",
    "    \"col3\": [test_raw_avg for i in range(2)],\n",
    "    \"col4\": [test_raw_avg for i in range(2)],\n",
    "    \"col5\": [test_raw_avg for i in range(2)],\n",
    "    \"col6\": [test_raw_avg for i in range(2)],\n",
    "    \"col7\": [test_raw_avg for i in range(2)],\n",
    "    \"col8\": [test_raw_avg for i in range(2)],\n",
    "}\n",
    "\n",
    "test_raw_avg_df = pd.DataFrame(test_avg)\n",
    "test_raw_avg_df"
   ]
  },
  {
   "cell_type": "markdown",
   "metadata": {},
   "source": [
    "Lastly the RMSE is calculated when we subtract the imputed dataframe from the raw average and is outputted below."
   ]
  },
  {
   "cell_type": "code",
   "execution_count": 17,
   "metadata": {},
   "outputs": [
    {
     "data": {
      "text/plain": [
       "1.7392527130926085"
      ]
     },
     "execution_count": 17,
     "metadata": {},
     "output_type": "execute_result"
    }
   ],
   "source": [
    "test_rmse = sqrt(mean_squared_error(test_imputed, test_raw_avg_df))\n",
    "test_rmse"
   ]
  },
  {
   "cell_type": "code",
   "execution_count": null,
   "metadata": {},
   "outputs": [],
   "source": []
  },
  {
   "cell_type": "code",
   "execution_count": 25,
   "metadata": {},
   "outputs": [
    {
     "data": {
      "text/html": [
       "<div>\n",
       "<style scoped>\n",
       "    .dataframe tbody tr th:only-of-type {\n",
       "        vertical-align: middle;\n",
       "    }\n",
       "\n",
       "    .dataframe tbody tr th {\n",
       "        vertical-align: top;\n",
       "    }\n",
       "\n",
       "    .dataframe thead th {\n",
       "        text-align: right;\n",
       "    }\n",
       "</style>\n",
       "<table border=\"1\" class=\"dataframe\">\n",
       "  <thead>\n",
       "    <tr style=\"text-align: right;\">\n",
       "      <th></th>\n",
       "      <th>col1</th>\n",
       "      <th>col2</th>\n",
       "      <th>col3</th>\n",
       "      <th>col4</th>\n",
       "      <th>col5</th>\n",
       "      <th>col6</th>\n",
       "      <th>col7</th>\n",
       "      <th>col8</th>\n",
       "    </tr>\n",
       "  </thead>\n",
       "  <tbody>\n",
       "    <tr>\n",
       "      <th>0</th>\n",
       "      <td>5.0</td>\n",
       "      <td>3.0</td>\n",
       "      <td>0.0</td>\n",
       "      <td>1.0</td>\n",
       "      <td>2.0</td>\n",
       "      <td>NaN</td>\n",
       "      <td>NaN</td>\n",
       "      <td>4.0</td>\n",
       "    </tr>\n",
       "    <tr>\n",
       "      <th>7</th>\n",
       "      <td>NaN</td>\n",
       "      <td>NaN</td>\n",
       "      <td>NaN</td>\n",
       "      <td>1.0</td>\n",
       "      <td>3.0</td>\n",
       "      <td>3.0</td>\n",
       "      <td>3.0</td>\n",
       "      <td>NaN</td>\n",
       "    </tr>\n",
       "    <tr>\n",
       "      <th>4</th>\n",
       "      <td>0.0</td>\n",
       "      <td>0.0</td>\n",
       "      <td>4.0</td>\n",
       "      <td>NaN</td>\n",
       "      <td>3.0</td>\n",
       "      <td>2.0</td>\n",
       "      <td>1.0</td>\n",
       "      <td>2.0</td>\n",
       "    </tr>\n",
       "    <tr>\n",
       "      <th>1</th>\n",
       "      <td>2.0</td>\n",
       "      <td>2.0</td>\n",
       "      <td>3.0</td>\n",
       "      <td>1.0</td>\n",
       "      <td>NaN</td>\n",
       "      <td>4.0</td>\n",
       "      <td>0.0</td>\n",
       "      <td>2.0</td>\n",
       "    </tr>\n",
       "    <tr>\n",
       "      <th>3</th>\n",
       "      <td>0.0</td>\n",
       "      <td>5.0</td>\n",
       "      <td>2.0</td>\n",
       "      <td>NaN</td>\n",
       "      <td>5.0</td>\n",
       "      <td>NaN</td>\n",
       "      <td>5.0</td>\n",
       "      <td>3.0</td>\n",
       "    </tr>\n",
       "    <tr>\n",
       "      <th>2</th>\n",
       "      <td>5.0</td>\n",
       "      <td>NaN</td>\n",
       "      <td>NaN</td>\n",
       "      <td>1.0</td>\n",
       "      <td>2.0</td>\n",
       "      <td>1.0</td>\n",
       "      <td>1.0</td>\n",
       "      <td>5.0</td>\n",
       "    </tr>\n",
       "    <tr>\n",
       "      <th>5</th>\n",
       "      <td>3.0</td>\n",
       "      <td>3.0</td>\n",
       "      <td>0.0</td>\n",
       "      <td>2.0</td>\n",
       "      <td>3.0</td>\n",
       "      <td>4.0</td>\n",
       "      <td>NaN</td>\n",
       "      <td>1.0</td>\n",
       "    </tr>\n",
       "    <tr>\n",
       "      <th>6</th>\n",
       "      <td>0.0</td>\n",
       "      <td>1.0</td>\n",
       "      <td>4.0</td>\n",
       "      <td>0.0</td>\n",
       "      <td>5.0</td>\n",
       "      <td>5.0</td>\n",
       "      <td>NaN</td>\n",
       "      <td>NaN</td>\n",
       "    </tr>\n",
       "  </tbody>\n",
       "</table>\n",
       "</div>"
      ],
      "text/plain": [
       "   col1  col2  col3  col4  col5  col6  col7  col8\n",
       "0   5.0   3.0   0.0   1.0   2.0   NaN   NaN   4.0\n",
       "7   NaN   NaN   NaN   1.0   3.0   3.0   3.0   NaN\n",
       "4   0.0   0.0   4.0   NaN   3.0   2.0   1.0   2.0\n",
       "1   2.0   2.0   3.0   1.0   NaN   4.0   0.0   2.0\n",
       "3   0.0   5.0   2.0   NaN   5.0   NaN   5.0   3.0\n",
       "2   5.0   NaN   NaN   1.0   2.0   1.0   1.0   5.0\n",
       "5   3.0   3.0   0.0   2.0   3.0   4.0   NaN   1.0\n",
       "6   0.0   1.0   4.0   0.0   5.0   5.0   NaN   NaN"
      ]
     },
     "execution_count": 25,
     "metadata": {},
     "output_type": "execute_result"
    }
   ],
   "source": [
    "train"
   ]
  },
  {
   "cell_type": "code",
   "execution_count": 29,
   "metadata": {},
   "outputs": [
    {
     "name": "stdout",
     "output_type": "stream",
     "text": [
      "col1    15.0\n",
      "col2    14.0\n",
      "col3    13.0\n",
      "col4     6.0\n",
      "col5    23.0\n",
      "col6    19.0\n",
      "col7    10.0\n",
      "col8    17.0\n",
      "dtype: float64 col1    7\n",
      "col2    6\n",
      "col3    6\n",
      "col4    6\n",
      "col5    7\n",
      "col6    6\n",
      "col7    5\n",
      "col8    6\n",
      "dtype: int64\n"
     ]
    }
   ],
   "source": [
    "print(train.sum(axis=0), train.count(axis=0))"
   ]
  },
  {
   "cell_type": "code",
   "execution_count": 68,
   "metadata": {},
   "outputs": [
    {
     "data": {
      "text/plain": [
       "col1   -0.244898\n",
       "col2   -0.054422\n",
       "col3   -0.221088\n",
       "col4   -1.387755\n",
       "col5    0.897959\n",
       "col6    0.778912\n",
       "col7   -0.387755\n",
       "col8    0.445578\n",
       "dtype: float64"
      ]
     },
     "execution_count": 68,
     "metadata": {},
     "output_type": "execute_result"
    }
   ],
   "source": [
    "#def get_bias_values(train_df, mean):\n",
    "    \n",
    "train_col_bias = (train.sum(axis=0) / train.count(axis=0)) - train_raw_avg\n",
    "train_col_bias"
   ]
  },
  {
   "cell_type": "code",
   "execution_count": 32,
   "metadata": {},
   "outputs": [
    {
     "data": {
      "text/plain": [
       "0    0.300000\n",
       "7    0.300000\n",
       "4   -0.485714\n",
       "1   -0.200000\n",
       "3    1.133333\n",
       "2    0.300000\n",
       "5    0.085714\n",
       "6    0.300000\n",
       "dtype: float64"
      ]
     },
     "execution_count": 32,
     "metadata": {},
     "output_type": "execute_result"
    }
   ],
   "source": [
    "train_row_bias = (train.sum(axis=1) / train.count(axis=1)) - test_raw_avg\n",
    "train_row_bias"
   ]
  },
  {
   "cell_type": "code",
   "execution_count": 65,
   "metadata": {},
   "outputs": [
    {
     "data": {
      "text/html": [
       "<div>\n",
       "<style scoped>\n",
       "    .dataframe tbody tr th:only-of-type {\n",
       "        vertical-align: middle;\n",
       "    }\n",
       "\n",
       "    .dataframe tbody tr th {\n",
       "        vertical-align: top;\n",
       "    }\n",
       "\n",
       "    .dataframe thead th {\n",
       "        text-align: right;\n",
       "    }\n",
       "</style>\n",
       "<table border=\"1\" class=\"dataframe\">\n",
       "  <thead>\n",
       "    <tr style=\"text-align: right;\">\n",
       "      <th></th>\n",
       "      <th>col1</th>\n",
       "      <th>col2</th>\n",
       "      <th>col3</th>\n",
       "      <th>col4</th>\n",
       "      <th>col5</th>\n",
       "      <th>col6</th>\n",
       "      <th>col7</th>\n",
       "      <th>col8</th>\n",
       "    </tr>\n",
       "  </thead>\n",
       "  <tbody>\n",
       "    <tr>\n",
       "      <th>0</th>\n",
       "      <td>2.442857</td>\n",
       "      <td>2.633333</td>\n",
       "      <td>2.466667</td>\n",
       "      <td>1.300000</td>\n",
       "      <td>3.585714</td>\n",
       "      <td>3.466667</td>\n",
       "      <td>2.300000</td>\n",
       "      <td>3.133333</td>\n",
       "    </tr>\n",
       "    <tr>\n",
       "      <th>1</th>\n",
       "      <td>2.442857</td>\n",
       "      <td>2.633333</td>\n",
       "      <td>2.466667</td>\n",
       "      <td>1.300000</td>\n",
       "      <td>3.585714</td>\n",
       "      <td>3.466667</td>\n",
       "      <td>2.300000</td>\n",
       "      <td>3.133333</td>\n",
       "    </tr>\n",
       "    <tr>\n",
       "      <th>2</th>\n",
       "      <td>1.657143</td>\n",
       "      <td>1.847619</td>\n",
       "      <td>1.680952</td>\n",
       "      <td>0.514286</td>\n",
       "      <td>2.800000</td>\n",
       "      <td>2.680952</td>\n",
       "      <td>1.514286</td>\n",
       "      <td>2.347619</td>\n",
       "    </tr>\n",
       "    <tr>\n",
       "      <th>3</th>\n",
       "      <td>1.942857</td>\n",
       "      <td>2.133333</td>\n",
       "      <td>1.966667</td>\n",
       "      <td>0.800000</td>\n",
       "      <td>3.085714</td>\n",
       "      <td>2.966667</td>\n",
       "      <td>1.800000</td>\n",
       "      <td>2.633333</td>\n",
       "    </tr>\n",
       "    <tr>\n",
       "      <th>4</th>\n",
       "      <td>3.276190</td>\n",
       "      <td>3.466667</td>\n",
       "      <td>3.300000</td>\n",
       "      <td>2.133333</td>\n",
       "      <td>4.419048</td>\n",
       "      <td>4.300000</td>\n",
       "      <td>3.133333</td>\n",
       "      <td>3.966667</td>\n",
       "    </tr>\n",
       "    <tr>\n",
       "      <th>5</th>\n",
       "      <td>2.442857</td>\n",
       "      <td>2.633333</td>\n",
       "      <td>2.466667</td>\n",
       "      <td>1.300000</td>\n",
       "      <td>3.585714</td>\n",
       "      <td>3.466667</td>\n",
       "      <td>2.300000</td>\n",
       "      <td>3.133333</td>\n",
       "    </tr>\n",
       "    <tr>\n",
       "      <th>6</th>\n",
       "      <td>2.228571</td>\n",
       "      <td>2.419048</td>\n",
       "      <td>2.252381</td>\n",
       "      <td>1.085714</td>\n",
       "      <td>3.371429</td>\n",
       "      <td>3.252381</td>\n",
       "      <td>2.085714</td>\n",
       "      <td>2.919048</td>\n",
       "    </tr>\n",
       "    <tr>\n",
       "      <th>7</th>\n",
       "      <td>2.442857</td>\n",
       "      <td>2.633333</td>\n",
       "      <td>2.466667</td>\n",
       "      <td>1.300000</td>\n",
       "      <td>3.585714</td>\n",
       "      <td>3.466667</td>\n",
       "      <td>2.300000</td>\n",
       "      <td>3.133333</td>\n",
       "    </tr>\n",
       "  </tbody>\n",
       "</table>\n",
       "</div>"
      ],
      "text/plain": [
       "       col1      col2      col3      col4      col5      col6      col7  \\\n",
       "0  2.442857  2.633333  2.466667  1.300000  3.585714  3.466667  2.300000   \n",
       "1  2.442857  2.633333  2.466667  1.300000  3.585714  3.466667  2.300000   \n",
       "2  1.657143  1.847619  1.680952  0.514286  2.800000  2.680952  1.514286   \n",
       "3  1.942857  2.133333  1.966667  0.800000  3.085714  2.966667  1.800000   \n",
       "4  3.276190  3.466667  3.300000  2.133333  4.419048  4.300000  3.133333   \n",
       "5  2.442857  2.633333  2.466667  1.300000  3.585714  3.466667  2.300000   \n",
       "6  2.228571  2.419048  2.252381  1.085714  3.371429  3.252381  2.085714   \n",
       "7  2.442857  2.633333  2.466667  1.300000  3.585714  3.466667  2.300000   \n",
       "\n",
       "       col8  \n",
       "0  3.133333  \n",
       "1  3.133333  \n",
       "2  2.347619  \n",
       "3  2.633333  \n",
       "4  3.966667  \n",
       "5  3.133333  \n",
       "6  2.919048  \n",
       "7  3.133333  "
      ]
     },
     "execution_count": 65,
     "metadata": {},
     "output_type": "execute_result"
    }
   ],
   "source": [
    "baseline_train = {\n",
    "    \"col1\":[(train_col_bias[0] + i + train_raw_avg) for i in train_row_bias],\n",
    "    \"col2\":[(train_col_bias[1] + i + train_raw_avg) for i in train_row_bias],\n",
    "    \"col3\":[(train_col_bias[2] + i + train_raw_avg) for i in train_row_bias],\n",
    "    \"col4\":[(train_col_bias[3] + i + train_raw_avg) for i in train_row_bias],\n",
    "    \"col5\":[(train_col_bias[4] + i + train_raw_avg) for i in train_row_bias],\n",
    "    \"col6\":[(train_col_bias[5] + i + train_raw_avg) for i in train_row_bias],\n",
    "    \"col7\":[(train_col_bias[6] + i + train_raw_avg) for i in train_row_bias],\n",
    "    \"col8\":[(train_col_bias[7] + i + train_raw_avg) for i in train_row_bias],\n",
    "}\n",
    "\n",
    "baseline_train_df = pd.DataFrame(baseline_train)\n",
    "baseline_train_df"
   ]
  },
  {
   "cell_type": "code",
   "execution_count": 67,
   "metadata": {},
   "outputs": [
    {
     "data": {
      "text/plain": [
       "0.8405465961035141"
      ]
     },
     "execution_count": 67,
     "metadata": {},
     "output_type": "execute_result"
    }
   ],
   "source": [
    "baseline_train_rmse = sqrt(mean_squared_error(baseline_train_df, train_raw_avg_df))\n",
    "baseline_train_rmse"
   ]
  },
  {
   "cell_type": "code",
   "execution_count": 69,
   "metadata": {},
   "outputs": [
    {
     "data": {
      "text/plain": [
       "col1   -1.2\n",
       "col2    0.3\n",
       "col3    2.3\n",
       "col4   -0.7\n",
       "col5   -1.7\n",
       "col6   -1.7\n",
       "col7    0.8\n",
       "col8    1.3\n",
       "dtype: float64"
      ]
     },
     "execution_count": 69,
     "metadata": {},
     "output_type": "execute_result"
    }
   ],
   "source": [
    "test_col_bias = (test.sum(axis=0) / test.count(axis=0)) - test_raw_avg\n",
    "test_col_bias"
   ]
  },
  {
   "cell_type": "code",
   "execution_count": 70,
   "metadata": {},
   "outputs": [
    {
     "data": {
      "text/plain": [
       "9    0.371429\n",
       "8   -0.325000\n",
       "dtype: float64"
      ]
     },
     "execution_count": 70,
     "metadata": {},
     "output_type": "execute_result"
    }
   ],
   "source": [
    "test_row_bias = (test.sum(axis=1) / test.count(axis=1) - test_raw_avg)\n",
    "test_row_bias"
   ]
  },
  {
   "cell_type": "code",
   "execution_count": 74,
   "metadata": {},
   "outputs": [
    {
     "data": {
      "text/html": [
       "<div>\n",
       "<style scoped>\n",
       "    .dataframe tbody tr th:only-of-type {\n",
       "        vertical-align: middle;\n",
       "    }\n",
       "\n",
       "    .dataframe tbody tr th {\n",
       "        vertical-align: top;\n",
       "    }\n",
       "\n",
       "    .dataframe thead th {\n",
       "        text-align: right;\n",
       "    }\n",
       "</style>\n",
       "<table border=\"1\" class=\"dataframe\">\n",
       "  <thead>\n",
       "    <tr style=\"text-align: right;\">\n",
       "      <th></th>\n",
       "      <th>col1</th>\n",
       "      <th>col2</th>\n",
       "      <th>col3</th>\n",
       "      <th>col4</th>\n",
       "      <th>col5</th>\n",
       "      <th>col6</th>\n",
       "      <th>col7</th>\n",
       "      <th>col8</th>\n",
       "    </tr>\n",
       "  </thead>\n",
       "  <tbody>\n",
       "    <tr>\n",
       "      <th>0</th>\n",
       "      <td>1.371429</td>\n",
       "      <td>2.871429</td>\n",
       "      <td>4.871429</td>\n",
       "      <td>1.871429</td>\n",
       "      <td>0.871429</td>\n",
       "      <td>0.871429</td>\n",
       "      <td>3.371429</td>\n",
       "      <td>3.871429</td>\n",
       "    </tr>\n",
       "    <tr>\n",
       "      <th>1</th>\n",
       "      <td>0.675000</td>\n",
       "      <td>2.175000</td>\n",
       "      <td>4.175000</td>\n",
       "      <td>1.175000</td>\n",
       "      <td>0.175000</td>\n",
       "      <td>0.175000</td>\n",
       "      <td>2.675000</td>\n",
       "      <td>3.175000</td>\n",
       "    </tr>\n",
       "  </tbody>\n",
       "</table>\n",
       "</div>"
      ],
      "text/plain": [
       "       col1      col2      col3      col4      col5      col6      col7  \\\n",
       "0  1.371429  2.871429  4.871429  1.871429  0.871429  0.871429  3.371429   \n",
       "1  0.675000  2.175000  4.175000  1.175000  0.175000  0.175000  2.675000   \n",
       "\n",
       "       col8  \n",
       "0  3.871429  \n",
       "1  3.175000  "
      ]
     },
     "execution_count": 74,
     "metadata": {},
     "output_type": "execute_result"
    }
   ],
   "source": [
    "baseline_test = {\n",
    "    \"col1\":[(test_col_bias[0] + i + test_raw_avg) for i in test_row_bias],\n",
    "    \"col2\":[(test_col_bias[1] + i + test_raw_avg) for i in test_row_bias],\n",
    "    \"col3\":[(test_col_bias[2] + i + test_raw_avg) for i in test_row_bias],\n",
    "    \"col4\":[(test_col_bias[3] + i + test_raw_avg) for i in test_row_bias],\n",
    "    \"col5\":[(test_col_bias[4] + i + test_raw_avg) for i in test_row_bias],\n",
    "    \"col6\":[(test_col_bias[5] + i + test_raw_avg) for i in test_row_bias],\n",
    "    \"col7\":[(test_col_bias[6] + i + test_raw_avg) for i in test_row_bias],\n",
    "    \"col8\":[(test_col_bias[7] + i + test_raw_avg) for i in test_row_bias],\n",
    "}\n",
    "\n",
    "\n",
    "baseline_test_df = pd.DataFrame(baseline_test)\n",
    "baseline_test_df"
   ]
  },
  {
   "cell_type": "code",
   "execution_count": 75,
   "metadata": {},
   "outputs": [
    {
     "data": {
      "text/plain": [
       "1.4303181285922346"
      ]
     },
     "execution_count": 75,
     "metadata": {},
     "output_type": "execute_result"
    }
   ],
   "source": [
    "baseline_test_rmse = sqrt(mean_squared_error(baseline_test_df, test_raw_avg_df))\n",
    "baseline_test_rmse"
   ]
  },
  {
   "cell_type": "code",
   "execution_count": 89,
   "metadata": {},
   "outputs": [
    {
     "name": "stdout",
     "output_type": "stream",
     "text": [
      "Original training set RMSE: 1.4557679087277726 \n",
      "Baseline predictors training set RMSE: 0.8405465961035141\n"
     ]
    }
   ],
   "source": [
    "print(f\"Original training set RMSE: {training_rmse}\",\n",
    "     f\"\\nBaseline predictors training set RMSE: {baseline_train_rmse}\")"
   ]
  },
  {
   "cell_type": "code",
   "execution_count": 90,
   "metadata": {},
   "outputs": [
    {
     "name": "stdout",
     "output_type": "stream",
     "text": [
      "Original test set RMSE: 1.7392527130926085 \n",
      "Baseline predictors test set RMSE: 1.4303181285922346\n"
     ]
    }
   ],
   "source": [
    "print(f\"Original test set RMSE: {test_rmse}\",\n",
    "     f\"\\nBaseline predictors test set RMSE: {baseline_test_rmse}\")"
   ]
  },
  {
   "cell_type": "code",
   "execution_count": null,
   "metadata": {},
   "outputs": [],
   "source": []
  }
 ],
 "metadata": {
  "kernelspec": {
   "display_name": "Python 3",
   "language": "python",
   "name": "python3"
  },
  "language_info": {
   "codemirror_mode": {
    "name": "ipython",
    "version": 3
   },
   "file_extension": ".py",
   "mimetype": "text/x-python",
   "name": "python",
   "nbconvert_exporter": "python",
   "pygments_lexer": "ipython3",
   "version": "3.7.3"
  }
 },
 "nbformat": 4,
 "nbformat_minor": 2
}
