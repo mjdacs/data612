{
 "cells": [
  {
   "cell_type": "markdown",
   "metadata": {},
   "source": [
    "## Objective\n",
    "The goal for your final project is for you to build out a recommender system using a large dataset (ex: 1M+ ratings or 10k+ users, 10k+ items)\n",
    "\n",
    "Planning Document: Find an interesting dataset and describe the system you plan to build out. If you would like to use one of the datasets you have already worked with, you should add a unique element or incorporate additional data. (i.e. explicit features you scrape from another source, like image analysis on movie posters). The overall goal, however, will be to produce quality recommendations by extracting insights from a large dataset. You may do so using Spark, or another distributed computing method, OR by effectively applying one of the more advanced mathematical techniques we have covered. There is no preference for one over the other, as long as your recommender works! The planning document should be written up and published as a notebook on GitHub or in RPubs.Please submit the link in the Unit 4 folder, due Tuesday, July 9.\n",
    "Introduction\n",
    "\n",
    "## Dataset\n",
    "\n",
    "Our group project consists of two datasets from GroupLens Research which collected movie rating data through the MovieLens web site (http://movielens.org). The following description of the dataset is as follows: -\n",
    "\t•\tThis dataset (ml-latest) describes 5-star rating and free-text tagging activity from MovieLens, a movie recommendation service. It contains 20,000,263 ratings and 465,564 tag applications across 27,278 movies. These data were created by 138493 users between January 09, 1995 and March 31, 2015. This dataset was generated on October 17, 2016.\n",
    "\t•\tThis dataset (ml-1m) describes 5-star rating and free-text tagging activity from MovieLens, a movie recommendation service. It contains 1,000,209 anonymous ratings of approximately 3,900 movies made by 6,040 MovieLens users who joined MovieLens in 2000.\n",
    "\t•\tThis dataset (ml-latest-small) describes 5-star rating and free-text tagging activity from MovieLens, a movie recommendation service. It contains 100,836 ratings and 3,683 tag applications across 9,742 movies. These data were created by 610 users between March 29, 1996 and September 24, 2018. This dataset was generated on September 26, 2018.\n",
    "In all datasets, users were selected at random for inclusion. All selected users had rated at least 20 movies. No demographic information is included. Each user is represented by an id, and no other information is provided.\n",
    "\n",
    "## Members\n",
    "\n",
    "Lead - Mike Dacampora\n",
    "Member – Calvin Wong\n",
    "\n",
    "## Approach\n",
    "\n",
    "Our goal is to evaluate a recommender system against the three datasets and determine to what extent do larger data actually lead to better predictive models. \n",
    "\n",
    "We will attempt multiple recommenders to determine which of the three is most effective. Another comparison is to determine how Spark-based Alternating least squares (ALS) algorithm perform against Python’s Scikit-Learn packaged KNN and SVD algorithms.  The following recommender framework will be applied against the three recommenders: -\n",
    "\n",
    "\t•\tTraining and test split of the datasets\n",
    "\t•\tHyper-parameter tuning via cross-validation \n",
    "\t•\tImplement the recommender to the dataset\n",
    "\t•\tComparing accuracy across datasets and against algorithms\n",
    "\n",
    "Predictive accuracy will be determined by Root mean squared error (RMSE), Mean square error (MSE) and Mean absolute error (MAE). To determine whether bigger data volumes indeed lead to better performance, we will evaluate the learning curves for each dataset and perform a comparative analysis.\n",
    "\n",
    "\n",
    "\n",
    "\n",
    "## References\n",
    "\n",
    "F. Maxwell Harper and Joseph A. Konstan. 2015. The MovieLens Datasets: History and Context. ACM Transactions on Interactive Intelligent Systems (TiiS) 5, 4, Article 19 (December 2015), 19 pages. DOI=http://dx.doi.org/10.1145/2827872\n",
    "\n",
    "\n",
    "Fortuny, E. J., Martens, D., & Provost, F. (2014, January 7). Predictive Modeling With Big Data: Is Bigger Really Better? Retrieved July 9, 2019, from https://www.liebertpub.com/doi/full/10.1089/big.2013.0037\n",
    "\n"
   ]
  },
  {
   "cell_type": "code",
   "execution_count": null,
   "metadata": {},
   "outputs": [],
   "source": []
  }
 ],
 "metadata": {
  "kernelspec": {
   "display_name": "Python 3",
   "language": "python",
   "name": "python3"
  },
  "language_info": {
   "codemirror_mode": {
    "name": "ipython",
    "version": 3
   },
   "file_extension": ".py",
   "mimetype": "text/x-python",
   "name": "python",
   "nbconvert_exporter": "python",
   "pygments_lexer": "ipython3",
   "version": "3.7.3"
  }
 },
 "nbformat": 4,
 "nbformat_minor": 2
}
