{
 "cells": [
  {
   "cell_type": "markdown",
   "metadata": {},
   "source": [
    "#### Mitigating the Harm of Recommender Systems\n",
    "Michael D'Acampora - DATA612\n",
    "\n",
    "Read one or more of the articles below and consider how to counter the radicalizing effects of recommender systems or ways to prevent algorithmic discrimination.\n",
    "\n",
    "After reading [Up Next: A Better Recommendation System](https://www.wired.com/story/creating-ethical-recommendation-engines/), one of the biggest takeaways was the jarring claim that \"Today, recommendation engines are perhaps the biggest threat to societal cohesion on the internet—and, as a result, one of the biggest threats to societal cohesion in the offline world, too.\" Although I knew about the negative effects of recommendation systems it's really eye opening to think about them in such a negatively prolific way. And as soon as I read that statement, I could not entirely disagree. We are the most politically polarized as a nation I have ever seen, probably anyone has ever seen, and much of it can be credited towards misinformation campaigns that use recommender systems to amplify and maximize the fringe thoughts and feelings one may have.\n",
    "\n",
    "One simple way is just to add more randomization to the model which would help mitigate anyone going down a rabbit hole of misinformation, but that would take away the accuracy and profitability of a particular model, and it would also take away from the important positive user experience that the model also employs. \n",
    "\n",
    "Another way to potentially improve upon these systems is to add more verification information to them. Maybe a video can be scanned and with natural language processing the audio can be scraped and compared to one or more fact-checking sites, and when consensus is reached, the video can be flagged or scored with a misinformation rating. Then the main recommendtion system can ignore this video when after it is the nth video of its kind that a user has watched. Youtube is already redirecting users to Wikipedia but is the lazy way to go about this issue. It would be a big undertaking and would involved several companies working together and profits would have to be shared, but it seems that businesses needs to go in this direction more now than it has in the past. \n",
    "\n",
    "As the column states, the need to rethink the ethics of recommendation engines is only growing, especially as AI seems into more areas of life. The trouble is AI is the hot topic when talking about ethics, not the recommender systems themselves. Overall, ethics over profit may be the only way to make sure we as a society aren't polarized at the hand of corporate profiteering, but how do we incentivize the ethics?"
   ]
  },
  {
   "cell_type": "code",
   "execution_count": null,
   "metadata": {},
   "outputs": [],
   "source": []
  }
 ],
 "metadata": {
  "kernelspec": {
   "display_name": "Python 3",
   "language": "python",
   "name": "python3"
  },
  "language_info": {
   "codemirror_mode": {
    "name": "ipython",
    "version": 3
   },
   "file_extension": ".py",
   "mimetype": "text/x-python",
   "name": "python",
   "nbconvert_exporter": "python",
   "pygments_lexer": "ipython3",
   "version": "3.7.2"
  }
 },
 "nbformat": 4,
 "nbformat_minor": 2
}
